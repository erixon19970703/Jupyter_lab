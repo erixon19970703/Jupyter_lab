{
 "cells": [
  {
   "cell_type": "code",
   "execution_count": 13,
   "id": "33323124-5c41-4e63-9811-05b32208f1d9",
   "metadata": {},
   "outputs": [],
   "source": [
    "import ibm_db"
   ]
  },
  {
   "cell_type": "code",
   "execution_count": 14,
   "id": "2f5819af-17c2-4c69-8338-8836aeb72dab",
   "metadata": {},
   "outputs": [],
   "source": [
    "#credential from my db2 instance in IBM CLOUD \n",
    "dsn_driver = \"{IBM DB2 ODBC DRIVER}\"\n",
    "dsn_database = \"bludb\"\n",
    "dsn_hostname = \"764264db-9824-4b7c-82df-40d1b13897c2.bs2io90l08kqb1od8lcg.databases.appdomain.cloud\"\n",
    "dsn_port = \"32536\"\n",
    "dsn_protocol = \"TCPIP\" # \"TCPIP\"\n",
    "dsn_uid = \"bpz80268\"\n",
    "dsn_pwd = \"R9dfIGC9XKOFcygU\"\n",
    "dsn_security = \"SSL\" #\"SSL"
   ]
  },
  {
   "cell_type": "code",
   "execution_count": 15,
   "id": "85d31d3e-4770-4350-8bd3-9430c7730e45",
   "metadata": {},
   "outputs": [
    {
     "name": "stdout",
     "output_type": "stream",
     "text": [
      "Connected to database:  bludb as user:  bpz80268 on host:  764264db-9824-4b7c-82df-40d1b13897c2.bs2io90l08kqb1od8lcg.databases.appdomain.cloud\n"
     ]
    }
   ],
   "source": [
    "#Create database connection\n",
    "dsn = (\n",
    "    \"DRIVER={0};\"\n",
    "    \"DATABASE={1};\"\n",
    "    \"HOSTNAME={2};\"\n",
    "    \"PORT={3};\"\n",
    "    \"PROTOCOL={4};\"\n",
    "    \"UID={5};\"\n",
    "    \"PWD={6};\"\n",
    "    \"SECURITY={7};\").format(dsn_driver, dsn_database, dsn_hostname, dsn_port, dsn_protocol, dsn_uid, dsn_pwd,dsn_security)\n",
    "\n",
    "try:\n",
    "    conn = ibm_db.connect(dsn, \"\", \"\")\n",
    "    print (\"Connected to database: \", dsn_database, \"as user: \", dsn_uid, \"on host: \", dsn_hostname)\n",
    "\n",
    "except:\n",
    "    print (\"Unable to connect: \", ibm_db.conn_errormsg() )"
   ]
  },
  {
   "cell_type": "code",
   "execution_count": 17,
   "id": "1c664a62-81c4-4bba-a76e-ebefd434f52c",
   "metadata": {},
   "outputs": [
    {
     "ename": "Exception",
     "evalue": "[IBM][CLI Driver][DB2/LINUXX8664] SQL0204N  \"BPZ80268.INSTRUCTOR\" is an undefined name.  SQLSTATE=42704 SQLCODE=-204",
     "output_type": "error",
     "traceback": [
      "\u001b[0;31m---------------------------------------------------------------------------\u001b[0m",
      "\u001b[0;31mException\u001b[0m                                 Traceback (most recent call last)",
      "\u001b[0;32m/tmp/ipykernel_1186/595635871.py\u001b[0m in \u001b[0;36m<module>\u001b[0;34m\u001b[0m\n\u001b[1;32m      3\u001b[0m \u001b[0;34m\u001b[0m\u001b[0m\n\u001b[1;32m      4\u001b[0m \u001b[0;31m#Now execute the drop statment\u001b[0m\u001b[0;34m\u001b[0m\u001b[0;34m\u001b[0m\u001b[0;34m\u001b[0m\u001b[0m\n\u001b[0;32m----> 5\u001b[0;31m \u001b[0mdropStmt\u001b[0m \u001b[0;34m=\u001b[0m \u001b[0mibm_db\u001b[0m\u001b[0;34m.\u001b[0m\u001b[0mexec_immediate\u001b[0m\u001b[0;34m(\u001b[0m\u001b[0mconn\u001b[0m\u001b[0;34m,\u001b[0m \u001b[0mdropQuery\u001b[0m\u001b[0;34m)\u001b[0m\u001b[0;34m\u001b[0m\u001b[0;34m\u001b[0m\u001b[0m\n\u001b[0m",
      "\u001b[0;31mException\u001b[0m: [IBM][CLI Driver][DB2/LINUXX8664] SQL0204N  \"BPZ80268.INSTRUCTOR\" is an undefined name.  SQLSTATE=42704 SQLCODE=-204"
     ]
    }
   ],
   "source": [
    "#Lets first drop the table INSTRUCTOR in case it exists from a previous attempt\n",
    "dropQuery = \"drop table INSTRUCTOR\"\n",
    "\n",
    "#Now execute the drop statment\n",
    "dropStmt = ibm_db.exec_immediate(conn, dropQuery)"
   ]
  },
  {
   "cell_type": "code",
   "execution_count": 20,
   "id": "523d9943-df2a-4f58-874d-e2360fe9ba44",
   "metadata": {},
   "outputs": [],
   "source": [
    "#creating tables using DDL\n",
    "createQuery = \"create table EMPLOYEES_FACT(emp_id INTEGER PRIMARY KEY NOT NULL, lname VARCHAR(20), fname VARCHAR(20), country VARCHAR(20), department VARCHAR(20))\"\n",
    "\n",
    "cresteStmt= ibm_db.exec_immediate(conn, createQuery)"
   ]
  },
  {
   "cell_type": "code",
   "execution_count": 22,
   "id": "5cc1b3ab-f178-4901-9f6f-d6357de50d54",
   "metadata": {},
   "outputs": [],
   "source": [
    "#loading data into the table \n",
    "insertQuery = \"insert into EMPLOYEES_FACT values(1, 'Monge', 'Gabriel', 'Ireland', 'Tecnology')\"\n",
    "\n",
    "insertStmt = ibm_db.exec_immediate(conn, insertQuery)"
   ]
  },
  {
   "cell_type": "code",
   "execution_count": 26,
   "id": "2e32a5eb-d8ec-4e17-b618-bdd2b682d77e",
   "metadata": {},
   "outputs": [],
   "source": [
    "insertQuery2 = \"insert into EMPLOYEES_FACT values(2, 'Umanzor', 'Pedro', 'EEUU', 'Maintenance'), (3, 'Roman', 'Juan', 'El Salvador', 'Cleaning'), (4, 'Caceres', 'Jose', 'Honduras', 'Despatch')\"\n",
    "\n",
    "insertStmt2 = ibm_db.exec_immediate(conn, insertQuery2)"
   ]
  },
  {
   "cell_type": "code",
   "execution_count": 31,
   "id": "87fcd9ec-385c-4992-8cd3-9a9b2a1567e2",
   "metadata": {},
   "outputs": [
    {
     "data": {
      "text/plain": [
       "{'EMP_ID': 1,\n",
       " 0: 1,\n",
       " 'LNAME': 'Monge',\n",
       " 1: 'Monge',\n",
       " 'FNAME': 'Gabriel',\n",
       " 2: 'Gabriel',\n",
       " 'COUNTRY': 'Ireland',\n",
       " 3: 'Ireland',\n",
       " 'DEPARTMENT': 'Tecnology',\n",
       " 4: 'Tecnology'}"
      ]
     },
     "execution_count": 31,
     "metadata": {},
     "output_type": "execute_result"
    }
   ],
   "source": [
    "#retriving rows from table \n",
    "selectQuery = \"select * from EMPLOYEES_FACT\"\n",
    "\n",
    "selectStmt = ibm_db.exec_immediate(conn, selectQuery)\n",
    "\n",
    "#Fetch the Dictionary (for the first row only) \n",
    "ibm_db.fetch_both(selectStmt)"
   ]
  },
  {
   "cell_type": "code",
   "execution_count": 49,
   "id": "983ebe8b-55db-4124-872d-3f917cf5e801",
   "metadata": {},
   "outputs": [],
   "source": [
    "while ibm_db.fetch_row(selectStmt) != False:\n",
    "   print (\" ID:\",  ibm_db.result(selectStmt, 0), \" FNAME:\",  ibm_db.result(selectStmt, \"FNAME\"))"
   ]
  },
  {
   "cell_type": "code",
   "execution_count": 50,
   "id": "b01f6dd8-1eb5-458f-8d75-9c5a8554c2d3",
   "metadata": {},
   "outputs": [],
   "source": [
    "#updating data\n",
    "update = \"update EMPLOYEES_FACT set DEPARTMENT= 'Maintenance' where lname='Roman'\"\n",
    "updateStmt = ibm_db.exec_immediate(conn, update)\n"
   ]
  },
  {
   "cell_type": "code",
   "execution_count": 51,
   "id": "424ba4db-7413-4b9e-b0d8-0ba714a7210b",
   "metadata": {},
   "outputs": [],
   "source": [
    "import pandas \n",
    "import ibm_db_dbi"
   ]
  },
  {
   "cell_type": "code",
   "execution_count": 52,
   "id": "343771ab-660c-4a75-9fda-b3e9dce6b0d1",
   "metadata": {},
   "outputs": [],
   "source": [
    "#Connection for pandas\n",
    "pconn = ibm_db_dbi.Connection(conn)"
   ]
  },
  {
   "cell_type": "code",
   "execution_count": 56,
   "id": "5816f7b8-3152-4cba-817a-734d21168376",
   "metadata": {},
   "outputs": [
    {
     "data": {
      "text/plain": [
       "'Monge'"
      ]
     },
     "execution_count": 56,
     "metadata": {},
     "output_type": "execute_result"
    }
   ],
   "source": [
    "#retriving rows from EMPLOYEES_FACT\n",
    "selectQuery = \"select * from EMPLOYEES_FACT\"\n",
    "\n",
    "pdf = pandas.read_sql(selectQuery, pconn)\n",
    "\n",
    "#print just fname for first row in data frame\n",
    "pdf.LNAME[0]"
   ]
  },
  {
   "cell_type": "code",
   "execution_count": 57,
   "id": "f28be818-270a-4ee2-bcff-f916c890a2f2",
   "metadata": {},
   "outputs": [
    {
     "data": {
      "text/html": [
       "<div>\n",
       "<style scoped>\n",
       "    .dataframe tbody tr th:only-of-type {\n",
       "        vertical-align: middle;\n",
       "    }\n",
       "\n",
       "    .dataframe tbody tr th {\n",
       "        vertical-align: top;\n",
       "    }\n",
       "\n",
       "    .dataframe thead th {\n",
       "        text-align: right;\n",
       "    }\n",
       "</style>\n",
       "<table border=\"1\" class=\"dataframe\">\n",
       "  <thead>\n",
       "    <tr style=\"text-align: right;\">\n",
       "      <th></th>\n",
       "      <th>EMP_ID</th>\n",
       "      <th>LNAME</th>\n",
       "      <th>FNAME</th>\n",
       "      <th>COUNTRY</th>\n",
       "      <th>DEPARTMENT</th>\n",
       "    </tr>\n",
       "  </thead>\n",
       "  <tbody>\n",
       "    <tr>\n",
       "      <th>0</th>\n",
       "      <td>1</td>\n",
       "      <td>Monge</td>\n",
       "      <td>Gabriel</td>\n",
       "      <td>Ireland</td>\n",
       "      <td>Tecnology</td>\n",
       "    </tr>\n",
       "    <tr>\n",
       "      <th>1</th>\n",
       "      <td>2</td>\n",
       "      <td>Umanzor</td>\n",
       "      <td>Pedro</td>\n",
       "      <td>EEUU</td>\n",
       "      <td>Maintenance</td>\n",
       "    </tr>\n",
       "    <tr>\n",
       "      <th>2</th>\n",
       "      <td>3</td>\n",
       "      <td>Roman</td>\n",
       "      <td>Juan</td>\n",
       "      <td>El Salvador</td>\n",
       "      <td>Maintenance</td>\n",
       "    </tr>\n",
       "    <tr>\n",
       "      <th>3</th>\n",
       "      <td>4</td>\n",
       "      <td>Caceres</td>\n",
       "      <td>Jose</td>\n",
       "      <td>Honduras</td>\n",
       "      <td>Despatch</td>\n",
       "    </tr>\n",
       "  </tbody>\n",
       "</table>\n",
       "</div>"
      ],
      "text/plain": [
       "   EMP_ID    LNAME    FNAME      COUNTRY   DEPARTMENT\n",
       "0       1    Monge  Gabriel      Ireland    Tecnology\n",
       "1       2  Umanzor    Pedro         EEUU  Maintenance\n",
       "2       3    Roman     Juan  El Salvador  Maintenance\n",
       "3       4  Caceres     Jose     Honduras     Despatch"
      ]
     },
     "execution_count": 57,
     "metadata": {},
     "output_type": "execute_result"
    }
   ],
   "source": [
    "pdf"
   ]
  },
  {
   "cell_type": "code",
   "execution_count": 58,
   "id": "6c452694-e23b-40ac-86eb-1d278f26d2e7",
   "metadata": {},
   "outputs": [
    {
     "data": {
      "text/plain": [
       "(4, 5)"
      ]
     },
     "execution_count": 58,
     "metadata": {},
     "output_type": "execute_result"
    }
   ],
   "source": [
    "pdf.shape"
   ]
  },
  {
   "cell_type": "code",
   "execution_count": null,
   "id": "29e6bdda-882f-4eaa-8843-5234d81e7fd1",
   "metadata": {},
   "outputs": [],
   "source": []
  }
 ],
 "metadata": {
  "kernelspec": {
   "display_name": "Python",
   "language": "python",
   "name": "conda-env-python-py"
  },
  "language_info": {
   "codemirror_mode": {
    "name": "ipython",
    "version": 3
   },
   "file_extension": ".py",
   "mimetype": "text/x-python",
   "name": "python",
   "nbconvert_exporter": "python",
   "pygments_lexer": "ipython3",
   "version": "3.7.10"
  }
 },
 "nbformat": 4,
 "nbformat_minor": 5
}
